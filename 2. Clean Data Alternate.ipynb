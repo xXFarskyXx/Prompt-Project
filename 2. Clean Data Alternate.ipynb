{
 "cells": [
  {
   "cell_type": "code",
   "execution_count": 117,
   "metadata": {},
   "outputs": [],
   "source": [
    "import pandas as pd\n",
    "import numpy as np\n",
    "import seaborn as sns\n",
    "import matplotlib.pyplot as plt\n",
    "%matplotlib inline"
   ]
  },
  {
   "cell_type": "code",
   "execution_count": 118,
   "metadata": {},
   "outputs": [],
   "source": [
    "df = pd.read_excel(\"data\\Full Data.xlsx\")"
   ]
  },
  {
   "cell_type": "code",
   "execution_count": 119,
   "metadata": {},
   "outputs": [
    {
     "data": {
      "text/plain": [
       "Index(['หมายเลขคำสั่งซื้อ', 'สถานะการสั่งซื้อ', 'สถานะการคืนเงินหรือคืนสินค้า',\n",
       "       'ชื่อผู้ใช้ (ผู้ซื้อ)', 'วันที่ทำการสั่งซื้อ', 'เวลาการชำระสินค้า',\n",
       "       'ช่องทางการชำระเงิน', 'ช่องทางการชำระเงิน (รายละเอียด)',\n",
       "       'แผนการผ่อนชำระ', 'ค่าธรรมเนียม (%)', 'ตัวเลือกการจัดส่ง',\n",
       "       'วิธีการจัดส่ง', '*หมายเลขติดตามพัสดุ',\n",
       "       'วันที่คาดว่าจะทำการจัดส่งสินค้า', 'เวลาส่งสินค้า',\n",
       "       'เลขอ้างอิง Parent SKU', 'ชื่อสินค้า',\n",
       "       'เลขอ้างอิง SKU (SKU Reference No.)', 'ชื่อตัวเลือก', 'ราคาตั้งต้น',\n",
       "       'ราคาขาย', 'จำนวน', 'Returned quantity', 'ราคาขายสุทธิ',\n",
       "       'ส่วนลดจาก Shopee', 'โค้ดส่วนลดชำระโดยผู้ขาย', 'โค้ด Coins Cashback',\n",
       "       'โค้ดส่วนลดชำระโดย Shopee', 'โค้ดส่วนลด',\n",
       "       'เข้าร่วมแคมเปญ bundle deal หรือไม่',\n",
       "       'ส่วนลด bundle deal ชำระโดยผู้ขาย', 'ส่วนลด bundle deal ชำระโดย Shopee',\n",
       "       'ส่วนลดจากการใช้เหรียญ', 'ส่วนลดทั้งหมดจากบัตรเครดิต', 'ค่าคอมมิชชั่น',\n",
       "       'Transaction Fee', 'ต้นทุนขายหักคูปองและcoin',\n",
       "       'ค่าจัดส่งที่ชำระโดยผู้ซื้อ', 'ค่าจัดส่งที่ Shopee ออกให้โดยประมาณ',\n",
       "       'ค่าจัดส่งสินค้าคืน', 'ค่าบริการ', 'จำนวนเงินทั้งหมด',\n",
       "       'ค่าจัดส่งโดยประมาณ', 'ชื่อผู้รับ', 'หมายเลขโทรศัพท์',\n",
       "       'หมายเหตุจากผู้ซื้อ', 'ที่อยู่ในการจัดส่ง', 'ประเทศ', 'จังหวัด',\n",
       "       'เขต/อำเภอ', 'รหัสไปรษณีย์', 'ประเภทคำสั่งซื้อ',\n",
       "       'เวลาที่ทำการสั่งซื้อสำเร็จ', 'บันทึก'],\n",
       "      dtype='object')"
      ]
     },
     "execution_count": 119,
     "metadata": {},
     "output_type": "execute_result"
    }
   ],
   "source": [
    "df.columns"
   ]
  },
  {
   "cell_type": "markdown",
   "metadata": {},
   "source": [
    "**Feature Engineering**"
   ]
  },
  {
   "cell_type": "code",
   "execution_count": 120,
   "metadata": {},
   "outputs": [],
   "source": [
    "df.drop(columns = [\"ค่าธรรมเนียม (%)\",\"วิธีการจัดส่ง\" , \"เลขอ้างอิง Parent SKU\" , \"สถานะการสั่งซื้อ\",\"สถานะการคืนเงินหรือคืนสินค้า\",\n",
    "                   \"ชื่อผู้รับ\" , \"หมายเลขโทรศัพท์\" , \"ที่อยู่ในการจัดส่ง\" , \"หมายเลขคำสั่งซื้อ\", \"เวลาที่ทำการสั่งซื้อสำเร็จ\"] \n",
    "                   , inplace = True)"
   ]
  },
  {
   "cell_type": "code",
   "execution_count": 121,
   "metadata": {},
   "outputs": [],
   "source": [
    "#Time Preprocess\n",
    "df[\"วันที่ทำการสั่งซื้อ\"] = pd.to_datetime(df[\"วันที่ทำการสั่งซื้อ\"])\n",
    "df[\"เวลาการชำระสินค้า\"] = pd.to_datetime(df[\"เวลาการชำระสินค้า\"])"
   ]
  },
  {
   "cell_type": "code",
   "execution_count": 122,
   "metadata": {},
   "outputs": [],
   "source": [
    "# Example for Hour of the Day\n",
    "df['Hour'] = df['วันที่ทำการสั่งซื้อ'].dt.hour\n",
    "df['Hour_sin'] = np.sin(2 * np.pi * df['Hour'] / 24)\n",
    "df['Hour_cos'] = np.cos(2 * np.pi * df['Hour'] / 24)\n",
    "\n",
    "# Example for Day of the Week\n",
    "df['Day of Week'] = df[\"วันที่ทำการสั่งซื้อ\"].dt.dayofweek\n",
    "df['DayOfWeek_sin'] = np.sin(2 * np.pi * df['Day of Week'] / 7)\n",
    "df['DayOfWeek_cos'] = np.cos(2 * np.pi * df['Day of Week'] / 7)"
   ]
  },
  {
   "cell_type": "code",
   "execution_count": 123,
   "metadata": {},
   "outputs": [],
   "source": [
    "# Example for Time of Day Binning\n",
    "def categorize_time_of_day(hour):\n",
    "    if 5 <= hour < 12:\n",
    "        return 'Morning'\n",
    "    elif 12 <= hour < 17:\n",
    "        return 'Afternoon'\n",
    "    elif 17 <= hour < 21:\n",
    "        return 'Evening'\n",
    "    else:\n",
    "        return 'Night'\n",
    "\n",
    "df['Time of Day'] = df['Hour'].apply(categorize_time_of_day)\n",
    "\n",
    "# Convert the Time of Day feature to one-hot encoding\n",
    "df = pd.get_dummies(df, columns=['Time of Day'], drop_first=True)\n"
   ]
  },
  {
   "cell_type": "code",
   "execution_count": 124,
   "metadata": {},
   "outputs": [],
   "source": [
    "df = pd.get_dummies(df, columns=[\"ช่องทางการชำระเงิน\"], drop_first=True)"
   ]
  },
  {
   "cell_type": "code",
   "execution_count": 125,
   "metadata": {},
   "outputs": [
    {
     "data": {
      "text/html": [
       "<div>\n",
       "<style scoped>\n",
       "    .dataframe tbody tr th:only-of-type {\n",
       "        vertical-align: middle;\n",
       "    }\n",
       "\n",
       "    .dataframe tbody tr th {\n",
       "        vertical-align: top;\n",
       "    }\n",
       "\n",
       "    .dataframe thead th {\n",
       "        text-align: right;\n",
       "    }\n",
       "</style>\n",
       "<table border=\"1\" class=\"dataframe\">\n",
       "  <thead>\n",
       "    <tr style=\"text-align: right;\">\n",
       "      <th></th>\n",
       "      <th>โค้ดส่วนลด</th>\n",
       "    </tr>\n",
       "  </thead>\n",
       "  <tbody>\n",
       "    <tr>\n",
       "      <th>0</th>\n",
       "      <td>BUILBBB52</td>\n",
       "    </tr>\n",
       "    <tr>\n",
       "      <th>1</th>\n",
       "      <td>BUILBBB52</td>\n",
       "    </tr>\n",
       "    <tr>\n",
       "      <th>2</th>\n",
       "      <td>BUILBBB52</td>\n",
       "    </tr>\n",
       "    <tr>\n",
       "      <th>3</th>\n",
       "      <td>BUILBBB52</td>\n",
       "    </tr>\n",
       "    <tr>\n",
       "      <th>4</th>\n",
       "      <td>BUILBBB52</td>\n",
       "    </tr>\n",
       "    <tr>\n",
       "      <th>...</th>\n",
       "      <td>...</td>\n",
       "    </tr>\n",
       "    <tr>\n",
       "      <th>16600</th>\n",
       "      <td>FSV-946894897442817</td>\n",
       "    </tr>\n",
       "    <tr>\n",
       "      <th>16601</th>\n",
       "      <td>FSV-946894897442817</td>\n",
       "    </tr>\n",
       "    <tr>\n",
       "      <th>16602</th>\n",
       "      <td>FSV-946894897442821</td>\n",
       "    </tr>\n",
       "    <tr>\n",
       "      <th>16603</th>\n",
       "      <td>FSV-946894897442821</td>\n",
       "    </tr>\n",
       "    <tr>\n",
       "      <th>16604</th>\n",
       "      <td>FSV-946894897442821</td>\n",
       "    </tr>\n",
       "  </tbody>\n",
       "</table>\n",
       "<p>16605 rows × 1 columns</p>\n",
       "</div>"
      ],
      "text/plain": [
       "                โค้ดส่วนลด\n",
       "0                BUILBBB52\n",
       "1                BUILBBB52\n",
       "2                BUILBBB52\n",
       "3                BUILBBB52\n",
       "4                BUILBBB52\n",
       "...                    ...\n",
       "16600  FSV-946894897442817\n",
       "16601  FSV-946894897442817\n",
       "16602  FSV-946894897442821\n",
       "16603  FSV-946894897442821\n",
       "16604  FSV-946894897442821\n",
       "\n",
       "[16605 rows x 1 columns]"
      ]
     },
     "execution_count": 125,
     "metadata": {},
     "output_type": "execute_result"
    }
   ],
   "source": [
    "df[[\"โค้ดส่วนลด\"]].fillna(False)"
   ]
  },
  {
   "cell_type": "code",
   "execution_count": 126,
   "metadata": {},
   "outputs": [],
   "source": [
    "def discount_code(x):\n",
    "    if type(x) == str:\n",
    "        return True\n",
    "    else:\n",
    "        return False\n",
    "\n",
    "df[\"โค้ดส่วนลด\"] = df[\"โค้ดส่วนลด\"].apply(discount_code)"
   ]
  },
  {
   "cell_type": "code",
   "execution_count": 127,
   "metadata": {},
   "outputs": [
    {
     "data": {
      "text/html": [
       "<div>\n",
       "<style scoped>\n",
       "    .dataframe tbody tr th:only-of-type {\n",
       "        vertical-align: middle;\n",
       "    }\n",
       "\n",
       "    .dataframe tbody tr th {\n",
       "        vertical-align: top;\n",
       "    }\n",
       "\n",
       "    .dataframe thead th {\n",
       "        text-align: right;\n",
       "    }\n",
       "</style>\n",
       "<table border=\"1\" class=\"dataframe\">\n",
       "  <thead>\n",
       "    <tr style=\"text-align: right;\">\n",
       "      <th></th>\n",
       "      <th>Purchase frequency</th>\n",
       "    </tr>\n",
       "  </thead>\n",
       "  <tbody>\n",
       "    <tr>\n",
       "      <th>0</th>\n",
       "      <td>1.0</td>\n",
       "    </tr>\n",
       "    <tr>\n",
       "      <th>1</th>\n",
       "      <td>3.0</td>\n",
       "    </tr>\n",
       "    <tr>\n",
       "      <th>2</th>\n",
       "      <td>3.0</td>\n",
       "    </tr>\n",
       "    <tr>\n",
       "      <th>3</th>\n",
       "      <td>3.0</td>\n",
       "    </tr>\n",
       "    <tr>\n",
       "      <th>4</th>\n",
       "      <td>3.0</td>\n",
       "    </tr>\n",
       "    <tr>\n",
       "      <th>...</th>\n",
       "      <td>...</td>\n",
       "    </tr>\n",
       "    <tr>\n",
       "      <th>16600</th>\n",
       "      <td>4.0</td>\n",
       "    </tr>\n",
       "    <tr>\n",
       "      <th>16601</th>\n",
       "      <td>4.0</td>\n",
       "    </tr>\n",
       "    <tr>\n",
       "      <th>16602</th>\n",
       "      <td>3.0</td>\n",
       "    </tr>\n",
       "    <tr>\n",
       "      <th>16603</th>\n",
       "      <td>3.0</td>\n",
       "    </tr>\n",
       "    <tr>\n",
       "      <th>16604</th>\n",
       "      <td>3.0</td>\n",
       "    </tr>\n",
       "  </tbody>\n",
       "</table>\n",
       "<p>16605 rows × 1 columns</p>\n",
       "</div>"
      ],
      "text/plain": [
       "       Purchase frequency\n",
       "0                     1.0\n",
       "1                     3.0\n",
       "2                     3.0\n",
       "3                     3.0\n",
       "4                     3.0\n",
       "...                   ...\n",
       "16600                 4.0\n",
       "16601                 4.0\n",
       "16602                 3.0\n",
       "16603                 3.0\n",
       "16604                 3.0\n",
       "\n",
       "[16605 rows x 1 columns]"
      ]
     },
     "execution_count": 127,
     "metadata": {},
     "output_type": "execute_result"
    }
   ],
   "source": [
    "customer_frequency = df[\"ชื่อผู้ใช้ (ผู้ซื้อ)\"].value_counts()\n",
    "\n",
    "df[\"Purchase frequency\"] = df[\"ชื่อผู้ใช้ (ผู้ซื้อ)\"].map(customer_frequency)\n",
    "\n",
    "df[[\"Purchase frequency\"]]"
   ]
  },
  {
   "cell_type": "code",
   "execution_count": 128,
   "metadata": {},
   "outputs": [
    {
     "data": {
      "text/plain": [
       "Index(['ชื่อผู้ใช้ (ผู้ซื้อ)', 'วันที่ทำการสั่งซื้อ', 'เวลาการชำระสินค้า',\n",
       "       'ช่องทางการชำระเงิน (รายละเอียด)', 'แผนการผ่อนชำระ',\n",
       "       'ตัวเลือกการจัดส่ง', '*หมายเลขติดตามพัสดุ',\n",
       "       'วันที่คาดว่าจะทำการจัดส่งสินค้า', 'เวลาส่งสินค้า', 'ชื่อสินค้า',\n",
       "       'เลขอ้างอิง SKU (SKU Reference No.)', 'ชื่อตัวเลือก', 'ราคาตั้งต้น',\n",
       "       'ราคาขาย', 'จำนวน', 'Returned quantity', 'ราคาขายสุทธิ',\n",
       "       'ส่วนลดจาก Shopee', 'โค้ดส่วนลดชำระโดยผู้ขาย', 'โค้ด Coins Cashback',\n",
       "       'โค้ดส่วนลดชำระโดย Shopee', 'โค้ดส่วนลด',\n",
       "       'เข้าร่วมแคมเปญ bundle deal หรือไม่',\n",
       "       'ส่วนลด bundle deal ชำระโดยผู้ขาย', 'ส่วนลด bundle deal ชำระโดย Shopee',\n",
       "       'ส่วนลดจากการใช้เหรียญ', 'ส่วนลดทั้งหมดจากบัตรเครดิต', 'ค่าคอมมิชชั่น',\n",
       "       'Transaction Fee', 'ต้นทุนขายหักคูปองและcoin',\n",
       "       'ค่าจัดส่งที่ชำระโดยผู้ซื้อ', 'ค่าจัดส่งที่ Shopee ออกให้โดยประมาณ',\n",
       "       'ค่าจัดส่งสินค้าคืน', 'ค่าบริการ', 'จำนวนเงินทั้งหมด',\n",
       "       'ค่าจัดส่งโดยประมาณ', 'หมายเหตุจากผู้ซื้อ', 'ประเทศ', 'จังหวัด',\n",
       "       'เขต/อำเภอ', 'รหัสไปรษณีย์', 'ประเภทคำสั่งซื้อ', 'บันทึก', 'Hour',\n",
       "       'Hour_sin', 'Hour_cos', 'Day of Week', 'DayOfWeek_sin', 'DayOfWeek_cos',\n",
       "       'Time of Day_Evening', 'Time of Day_Morning', 'Time of Day_Night',\n",
       "       'ช่องทางการชำระเงิน_Mobile Banking', 'ช่องทางการชำระเงิน_QR พร้อมเพย์',\n",
       "       'ช่องทางการชำระเงิน_SPayLater', 'ช่องทางการชำระเงิน_ShopeePay',\n",
       "       'ช่องทางการชำระเงิน_ShopeePay - ตัดบัญชีธนาคาร',\n",
       "       'ช่องทางการชำระเงิน_บัตรเครดิต/บัตรเดบิต',\n",
       "       'ช่องทางการชำระเงิน_เก็บเงินปลายทาง',\n",
       "       'ช่องทางการชำระเงิน_ไม่ต้องชำระเงิน', 'Purchase frequency'],\n",
       "      dtype='object')"
      ]
     },
     "execution_count": 128,
     "metadata": {},
     "output_type": "execute_result"
    }
   ],
   "source": [
    "df.columns"
   ]
  },
  {
   "cell_type": "code",
   "execution_count": 129,
   "metadata": {},
   "outputs": [],
   "source": [
    "df.rename(columns = {\"ราคาขาย\": \"Sale Price\",\n",
    "                     \"ส่วนลดจาก Shopee\": \"Shopee Discount\",\n",
    "                     \"โค้ด Coins Cashback\": \"Code Coins Cashback\",\n",
    "                     \"ส่วนลด bundle deal ชำระโดย Shopee\": \"Shopee-Paid Bundle Deal Discount\",\n",
    "                     \"โค้ดส่วนลดชำระโดยผู้ขาย\": \"Discount Code by Seller\"\n",
    "                     }, inplace = True)"
   ]
  },
  {
   "cell_type": "code",
   "execution_count": 130,
   "metadata": {},
   "outputs": [],
   "source": [
    "customer_groups = [\n",
    "    {\n",
    "        \"group_name\": \"Price-Sensitive Customers\",\n",
    "        \"relevant_features\": [\n",
    "            \"Sale Price\", #(Sale Price)\n",
    "            \"Shopee Discount\", #(Shopee Discount)\n",
    "            \"Discount Code by Seller\", #(Discount Code by Seller)\n",
    "            \"Code Coins Cashback\",\n",
    "        ],\n",
    "        \"description\": \"Customers who are likely to respond to discounts, cashback offers, and other price-related promotions.\"\n",
    "    },\n",
    "    {\n",
    "        \"group_name\": \"Product-Focused Customers\",\n",
    "        \"relevant_features\": [\n",
    "            #\"ชื่อสินค้า\", #(Product Name)\n",
    "            \"เลขอ้างอิง SKU (SKU Reference No.)\",\n",
    "            \"Shopee-Paid Bundle Deal Discount\", \n",
    "        ],\n",
    "        \"description\": \"Customers who are influenced by specific product promotions, bundles, or installment payment options.\"\n",
    "    },\n",
    "    {\n",
    "        \"group_name\": \"Loyalty-Driven Customers\",\n",
    "        \"relevant_features\": [\n",
    "            \"Purchase frequency\",\n",
    "            #\"Hour_sin\",\n",
    "            \"Sale Price\",\n",
    "            \"Shopee-Paid Bundle Deal Discount\", \n",
    "        ],\n",
    "        \"description\": \"Customers who respond to loyalty rewards and have a history of repeat purchases.\"\n",
    "    },\n",
    "    {\n",
    "        \"group_name\": \"Convenience-Oriented Customers\",\n",
    "        \"relevant_features\": [\n",
    "            \"Sale Price\", #(Sale Price)\n",
    "            \"Shopee Discount\", #(Shopee Discount)\n",
    "            \"Hour_sin\"\n",
    "        ],\n",
    "        \"description\": \"Customers who prioritize convenience and are influenced by promotions. Theses customers are also influenced by time of the day.\"\n",
    "    }\n",
    "]\n"
   ]
  },
  {
   "cell_type": "code",
   "execution_count": 131,
   "metadata": {},
   "outputs": [],
   "source": [
    "category = [\"Price-Sensitive Customers\" , \"Product-Focused Customers\" , \"Loyalty-Driven Customers\" , \"Convenience-Oriented Customers\" , \"High-Value Customers\"]"
   ]
  },
  {
   "cell_type": "code",
   "execution_count": 132,
   "metadata": {},
   "outputs": [],
   "source": [
    "categories = []\n",
    "for group in customer_groups:\n",
    "    categories.append(df[group[\"relevant_features\"]])"
   ]
  },
  {
   "cell_type": "code",
   "execution_count": 133,
   "metadata": {},
   "outputs": [],
   "source": [
    "# categories[0].head()"
   ]
  },
  {
   "cell_type": "markdown",
   "metadata": {},
   "source": [
    "**Making a readable file**"
   ]
  },
  {
   "cell_type": "code",
   "execution_count": 134,
   "metadata": {},
   "outputs": [],
   "source": [
    "# with pd.ExcelWriter('Clean.xlsx') as writer:\n",
    "#     df.to_excel(writer , index = False)"
   ]
  },
  {
   "cell_type": "code",
   "execution_count": 135,
   "metadata": {},
   "outputs": [],
   "source": [
    "with pd.ExcelWriter('Category.xlsx') as writer:\n",
    "    for i in range(len(categories)):\n",
    "        categories[i].to_excel(writer , index = False , sheet_name =  customer_groups[i][\"group_name\"])"
   ]
  }
 ],
 "metadata": {
  "kernelspec": {
   "display_name": "Python 3",
   "language": "python",
   "name": "python3"
  },
  "language_info": {
   "codemirror_mode": {
    "name": "ipython",
    "version": 3
   },
   "file_extension": ".py",
   "mimetype": "text/x-python",
   "name": "python",
   "nbconvert_exporter": "python",
   "pygments_lexer": "ipython3",
   "version": "3.11.9"
  }
 },
 "nbformat": 4,
 "nbformat_minor": 2
}
